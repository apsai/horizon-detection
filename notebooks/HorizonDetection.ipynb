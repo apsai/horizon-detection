{
 "cells": [
  {
   "cell_type": "code",
   "execution_count": 1,
   "id": "df912776",
   "metadata": {},
   "outputs": [],
   "source": [
    "import sys\n",
    "sys.path.append(\"../utils/\")"
   ]
  },
  {
   "cell_type": "code",
   "execution_count": 2,
   "id": "a5178a9e",
   "metadata": {},
   "outputs": [],
   "source": [
    "import transformations"
   ]
  },
  {
   "cell_type": "code",
   "execution_count": 3,
   "id": "8f50cc9e",
   "metadata": {},
   "outputs": [],
   "source": [
    "input_path = \"../data/input_1/\"\n",
    "output_path = \"../data/output1/\""
   ]
  },
  {
   "cell_type": "code",
   "execution_count": 4,
   "id": "3bd8495d",
   "metadata": {
    "scrolled": false
   },
   "outputs": [
    {
     "name": "stdout",
     "output_type": "stream",
     "text": [
      "Processing done\n",
      "Time Taken to process 150 images is 5.358340263366699\n",
      "Max Euclidean Distance:  162.44691440590677\n",
      "Mean Euclidean Distance:  62.77456670249165\n"
     ]
    }
   ],
   "source": [
    "transformations.drawHorizonLine(input_path, output_path)"
   ]
  },
  {
   "cell_type": "code",
   "execution_count": 5,
   "id": "cc8e5445",
   "metadata": {},
   "outputs": [],
   "source": [
    "input_path = \"../data/input_2/\"\n",
    "output_path = \"../data/output2/\""
   ]
  },
  {
   "cell_type": "code",
   "execution_count": 6,
   "id": "cb720f0e",
   "metadata": {},
   "outputs": [
    {
     "name": "stdout",
     "output_type": "stream",
     "text": [
      "Processing done\n",
      "Time Taken to process 150 images is 5.370741128921509\n",
      "Max Euclidean Distance:  164.23763271552596\n",
      "Mean Euclidean Distance:  55.53403747038981\n"
     ]
    }
   ],
   "source": [
    "transformations.drawHorizonLine(input_path, output_path)"
   ]
  },
  {
   "cell_type": "code",
   "execution_count": null,
   "id": "a1f07a88",
   "metadata": {},
   "outputs": [],
   "source": []
  }
 ],
 "metadata": {
  "kernelspec": {
   "display_name": "zipline",
   "language": "python",
   "name": "zipline"
  },
  "language_info": {
   "codemirror_mode": {
    "name": "ipython",
    "version": 3
   },
   "file_extension": ".py",
   "mimetype": "text/x-python",
   "name": "python",
   "nbconvert_exporter": "python",
   "pygments_lexer": "ipython3",
   "version": "3.9.14"
  }
 },
 "nbformat": 4,
 "nbformat_minor": 5
}
